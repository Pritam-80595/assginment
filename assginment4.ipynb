{
  "cells": [
    {
      "cell_type": "code",
      "execution_count": null,
      "metadata": {
        "id": "bhLipqX6_IGp"
      },
      "outputs": [],
      "source": []
    },
    {
      "cell_type": "markdown",
      "metadata": {
        "id": "eIOVS1wC_b2j"
      },
      "source": [
        "Q-1. what is SDLC? explain each and everything (300)"
      ]
    },
    {
      "cell_type": "markdown",
      "metadata": {
        "id": "tBNMmjWvOi6k"
      },
      "source": [
        "Ans-1\n",
        "  \n",
        "  sdlc means are Software Development  Life Cycle, is a systematic process for planning, creating,  testing, and deploying software applications. It consists of several distinct phases, each contributing to the overall  success and quality of the  software  product. Heres an  overview  of each  phase:\n",
        "\n",
        "\n",
        " 1. waterfall model.\n",
        "\n",
        " It is the fundamental model of the  software development life cycle. This is a very simple model. The waterfall  model is not in practice anymore, but it is the basis for all other SDLC models.  Because of its simple structure, the waterfall model is easier to use and  provides a tangible output. In the waterfall model, once a phase   seems to be completed, it cannot be changed, and due to this less  flexible nature, the waterfall model is not in practice   anymore.\n",
        "\n",
        " 2. agile model.\n",
        "\n",
        "The agile model in SDLC was mainly designed  to adapt to changing requests quickly. The main goal of the Agile  model is to facilitate quick project completion. The agile model  refers to a group of development processes. These processes have  some similar characteristics but also possess certain subtle\n",
        " differences among themselves.\n",
        "\n",
        "3. iterative model.\n",
        "\n",
        "In the Iterative model in SDLC, each cycle results in a semi-developed but deployable version; with each cycle, some requirements are added  to the software, and the final cycle results in the software   with the complete requirement  specification.\n",
        "*italicised text*"
      ]
    },
    {
      "cell_type": "markdown",
      "metadata": {
        "id": "9JPG_VCAOo_p"
      },
      "source": [
        "Q-2. what is matrix ? describe each and everything(500 words):"
      ]
    },
    {
      "cell_type": "markdown",
      "metadata": {
        "id": "G7NcdIGmO7TI"
      },
      "source": [
        "Ans-2 Matrix is a rectangular array of numbers, symbols, points, or characters each belonging to a specific row and column. A matrix is identified by its order which is given in the form of rows ⨯ and columns. The numbers, symbols, points, or characters present inside a matrix are called the elements of a matrix. The location of each element is given by the row and column it belongs to.\n",
        "\n",
        "\n",
        "\n",
        "matrix of a types- 1. Square Matrix:A Matrix where the number of row equals the number of columns\n",
        "\n",
        "\n",
        "2.Row Matrix:one a single row\n",
        "\n",
        "\n",
        "3.Column Matrix:one a single column\n",
        "\n",
        "\n",
        "4.Zero Matrix:A zero matrix (or null matrix) is a matrix in which all elements are zero.\n",
        "\n",
        "\n",
        "5.Identity Matrix:An identity matrix is a special case of a diagonal matrix where all the diagonal elements are equal to one.\n",
        "\n"
      ]
    },
    {
      "cell_type": "markdown",
      "metadata": {
        "id": "yAcy-lS9O8rl"
      },
      "source": [
        "Q-3. Describe importance of Linkdin ? (300 words)"
      ]
    },
    {
      "cell_type": "markdown",
      "metadata": {
        "id": "1KYSzuiUPNRE"
      },
      "source": [
        "Ans-3\n",
        "LinkedIn is a powerful professional networking platform that plays a crucial role in today’s job market and business environment. Here are some key aspects highlighting its importance:\n",
        "\n",
        " 1.Networking Opportunities\n",
        "\n",
        "LinkedIn allows users to connect with professionals across various industries, facilitating networking opportunities that can lead to collaborations, mentorships, and job referrals. Building a robust network is essential for career growth, and LinkedIn provides a platform to maintain and expand these connections.\n",
        "\n",
        "2. Job Search and Recruitment\n",
        "For job seekers, LinkedIn is an invaluable resource. Many companies post job openings directly on the platform, allowing users to apply easily. Additionally, LinkedIns algorithms can match users with relevant job opportunities based on their profiles and skills. Recruiters often use LinkedIn to search for potential candidates, making it vital for job seekers to maintain an updated and professional profile.\n",
        "\n",
        " 3. Personal Branding\n",
        "LinkedIn serves as a digital portfolio where users can showcase their skills, experience, and achievements. A well-crafted profile helps individuals establish their personal brand, enhancing their visibility to potential employers and clients. Sharing content, engaging in discussions, and posting articles can further elevate one’s professional presence.\n",
        "\n",
        "4. Industry Insights\n",
        "LinkedIn is also a hub for industry news and insights. Users can follow companies, join groups, and engage with thought leaders, staying informed about trends and developments in their fields. This knowledge can be crucial for professional development and making informed career decisions.\n",
        "\n",
        " 5. Skill Development\n",
        "The platform offers resources for continuous learning, including online courses and webinars through LinkedIn Learning. Users can enhance their skills and certifications, making them more competitive in the job market.\n"
      ]
    },
    {
      "cell_type": "markdown",
      "metadata": {
        "id": "xNABNL1LmZsl"
      },
      "source": [
        "Q-4 Describe OOPs and its type with example.(500 words)"
      ]
    },
    {
      "cell_type": "markdown",
      "metadata": {
        "id": "bsLMlFFCmnuu"
      },
      "source": [
        "Ans-4 OOPs is a programming paradigm that uses objects and classes in programming. It aims to implement real-world entities like inheritance, polymorphisms, encapsulation, etc. in the programming.\n",
        "\n",
        "oops of a type- 1.class-a class is a template used to create objects or mathod\n",
        "\n",
        "2.object-an object is a variable that holds data and functions that can be used to frame up the data.\n",
        "\n",
        "3.Polymorphism-Polymorphism to repeat the class\n",
        "\n",
        "\n",
        "4.Encapsulation-Encapsulation refers to adding objects and methods to each other.\n",
        "\n",
        "\n",
        "5.Inheritance-In Python object oriented Programming, Inheritance is the capability of one class to derive or inherit the properties from another class.\n",
        "\n",
        "6.Data Abstraction-It hides unnecessary code details from the user. Also,  when we do not want to give out sensitive parts of our code implementation and this is where data abstraction came."
      ]
    },
    {
      "cell_type": "code",
      "execution_count": null,
      "metadata": {
        "id": "q9ZTxllTPMht"
      },
      "outputs": [],
      "source": [
        "class Person:\n",
        "    def __init__(self,name):\n",
        "        self.name=name\n",
        "\n",
        "    def display_info(self):\n",
        "        print(f\"Name is : {self.name}\")"
      ]
    },
    {
      "cell_type": "code",
      "execution_count": null,
      "metadata": {
        "id": "oh86KV6cKh2w"
      },
      "outputs": [],
      "source": [
        "class Student(Person):\n",
        "    def __init__(self,name,grade):\n",
        "        super().__init__(name)\n",
        "        self.grade=grade\n",
        "\n",
        "    def display_info(self):\n",
        "        super().display_info()\n",
        "        print(f\"Grade is : {self.grade}\")\n",
        "\n"
      ]
    },
    {
      "cell_type": "code",
      "execution_count": null,
      "metadata": {
        "colab": {
          "base_uri": "https://localhost:8080/"
        },
        "id": "QTuNIFlEKl72",
        "outputId": "4cfc75a0-bbe6-4365-eb7a-6b3636778f2a"
      },
      "outputs": [
        {
          "name": "stdout",
          "output_type": "stream",
          "text": [
            "Name is : pritam\n",
            "Grade is : A\n"
          ]
        }
      ],
      "source": [
        "student1= Student(\"pritam\",\"A\")\n",
        "student1.display_info()"
      ]
    },
    {
      "cell_type": "code",
      "execution_count": null,
      "metadata": {
        "colab": {
          "background_save": true,
          "base_uri": "https://localhost:8080/"
        },
        "id": "QI5nhI6PK5yc",
        "outputId": "1c69f18d-df4a-4abb-e761-9ebcae16a89a"
      },
      "outputs": [
        {
          "name": "stdout",
          "output_type": "stream",
          "text": [
            "pygame 2.6.1 (SDL 2.28.4, Python 3.10.12)\n",
            "Hello from the pygame community. https://www.pygame.org/contribute.html\n"
          ]
        }
      ],
      "source": [
        "import pygame\n",
        "import time\n",
        "import random\n",
        "\n",
        "# Initialize Pygame\n",
        "pygame.init()\n",
        "\n",
        "# Define colors\n",
        "white = (255, 255, 255)\n",
        "yellow = (255, 255, 102)\n",
        "black = (0, 0, 0)\n",
        "red = (213, 50, 80)\n",
        "green = (0, 255, 0)\n",
        "blue = (50, 153, 213)\n",
        "\n",
        "# Set display dimensions\n",
        "width, height = 600, 400\n",
        "dis = pygame.display.set_mode((width, height))\n",
        "pygame.display.set_caption('Snake Game')\n",
        "\n",
        "# Game settings\n",
        "snake_block = 10\n",
        "snake_speed = 15\n",
        "\n",
        "# Set up clock\n",
        "clock = pygame.time.Clock()\n",
        "\n",
        "# Font styles\n",
        "font_style = pygame.font.SysFont(\"bahnschrift\", 25)\n",
        "score_font = pygame.font.SysFont(\"comicsansms\", 35)\n",
        "\n",
        "def our_snake(snake_block, snake_list):\n",
        "    for x in snake_list:\n",
        "        pygame.draw.rect(dis, black, [x[0], x[1], snake_block, snake_block])\n",
        "\n",
        "def your_score(score):\n",
        "    value = score_font.render(\"Score: \" + str(score), True, black)\n",
        "    dis.blit(value, [0, 0])\n",
        "\n",
        "def message(msg, color):\n",
        "    mesg = font_style.render(msg, True, color)\n",
        "    dis.blit(mesg, [width / 6, height / 3])\n",
        "\n",
        "def gameLoop():\n",
        "    game_over = False\n",
        "    game_close = False\n",
        "\n",
        "    x1 = width / 2\n",
        "    y1 = height / 2\n",
        "\n",
        "    x1_change = 0\n",
        "    y1_change = 0\n",
        "\n",
        "    snake_list = []\n",
        "    length_of_snake = 1\n",
        "\n",
        "    foodx = round(random.randrange(0, width - snake_block) / 10.0) * 10.0\n",
        "    foody = round(random.randrange(0, height - snake_block) / 10.0) * 10.0\n",
        "\n",
        "    while not game_over:\n",
        "\n",
        "        while game_close == True:\n",
        "            dis.fill(blue)\n",
        "            message(\"You Lost! Press C-Play Again or Q-Quit\", red)\n",
        "            your_score(length_of_snake - 1)\n",
        "            pygame.display.update()\n",
        "\n",
        "            for event in pygame.event.get():\n",
        "                if event.type == pygame.KEYDOWN:\n",
        "                    if event.key == pygame.K_q:\n",
        "                        game_over = True\n",
        "                        game_close = False\n",
        "                    if event.key == pygame.K_c:\n",
        "                        gameLoop()\n",
        "\n",
        "        for event in pygame.event.get():\n",
        "            if event.type == pygame.QUIT:\n",
        "                game_over = True\n",
        "            if event.type == pygame.KEYDOWN:\n",
        "                if event.key == pygame.K_LEFT:\n",
        "                    x1_change = -snake_block\n",
        "                    y1_change = 0\n",
        "                elif event.key == pygame.K_RIGHT:\n",
        "                    x1_change = snake_block\n",
        "                    y1_change = 0\n",
        "                elif event.key == pygame.K_UP:\n",
        "                    y1_change = -snake_block\n",
        "                    x1_change = 0\n",
        "                elif event.key == pygame.K_DOWN:\n",
        "                    y1_change = snake_block\n",
        "                    x1_change = 0\n",
        "\n",
        "        if x1 >= width or x1 < 0 or y1 >= height or y1 < 0:\n",
        "            game_close = True\n",
        "\n",
        "        x1 += x1_change\n",
        "        y1 += y1_change\n",
        "        dis.fill(blue)\n",
        "        pygame.draw.rect(dis, green, [foodx, foody, snake_block, snake_block])\n",
        "        snake_head = []\n",
        "        snake_head.append(x1)\n",
        "        snake_head.append(y1)\n",
        "        snake_list.append(snake_head)\n",
        "        if len(snake_list) > length_of_snake:\n",
        "            del snake_list[0]\n",
        "\n",
        "        for x in snake_list[:-1]:\n",
        "            if x == snake_head:\n",
        "                game_close = True\n",
        "\n",
        "        our_snake(snake_block, snake_list)\n",
        "        your_score(length_of_snake - 1)\n",
        "\n",
        "        pygame.display.update()\n",
        "\n",
        "        if x1 == foodx and y1 == foody:\n",
        "            foodx = round(random.randrange(0, width - snake_block) / 10.0) * 10.0\n",
        "            foody = round(random.randrange(0, height - snake_block) / 10.0) * 10.0\n",
        "            length_of_snake += 1\n",
        "\n",
        "        clock.tick(snake_speed)\n",
        "\n",
        "    pygame.quit()\n",
        "    quit()\n",
        "\n",
        "# Start the game\n",
        "gameLoop()\n"
      ]
    }
  ],
  "metadata": {
    "colab": {
      "provenance": []
    },
    "kernelspec": {
      "display_name": "Python 3",
      "name": "python3"
    },
    "language_info": {
      "name": "python"
    }
  },
  "nbformat": 4,
  "nbformat_minor": 0
}